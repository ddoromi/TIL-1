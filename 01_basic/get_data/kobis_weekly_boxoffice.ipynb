{
 "cells": [
  {
   "cell_type": "code",
   "execution_count": 1,
   "metadata": {},
   "outputs": [],
   "source": [
    "key = 'bb642f0cb96ebaeee948e4492b2aea19'\n",
    "URL = f'http://www.kobis.or.kr/kobisopenapi/webservice/rest/boxoffice/searchWeeklyBoxOfficeList.json?key={key}&targetDt=20190113'"
   ]
  },
  {
   "cell_type": "code",
   "execution_count": 12,
   "metadata": {},
   "outputs": [],
   "source": [
    "import requests\n",
    "\n",
    "data = requests.get(URL).json()\n",
    "data = data['boxOfficeResult']['weeklyBoxOfficeList']"
   ]
  },
  {
   "cell_type": "code",
   "execution_count": 13,
   "metadata": {},
   "outputs": [
    {
     "name": "stdout",
     "output_type": "stream",
     "text": [
      "{'1': '말모이', '2': '내안의 그놈', '3': '주먹왕 랄프 2: 인터넷 속으로', '4': '극장판 공룡메카드: 타이니소어의 섬', '5': '아쿠아맨'}\n"
     ]
    }
   ],
   "source": [
    "results = {\n",
    "    data[0]['rank']: data[0]['movieNm'],\n",
    "    data[1]['rank']: data[1]['movieNm'],\n",
    "    data[2]['rank']: data[2]['movieNm'],\n",
    "    data[3]['rank']: data[3]['movieNm'],\n",
    "    data[4]['rank']: data[4]['movieNm'],\n",
    "}\n",
    "\n",
    "print(results)"
   ]
  }
 ],
 "metadata": {
  "kernelspec": {
   "display_name": "Python 3",
   "language": "python",
   "name": "python3"
  },
  "language_info": {
   "codemirror_mode": {
    "name": "ipython",
    "version": 3
   },
   "file_extension": ".py",
   "mimetype": "text/x-python",
   "name": "python",
   "nbconvert_exporter": "python",
   "pygments_lexer": "ipython3",
   "version": "3.6.7"
  }
 },
 "nbformat": 4,
 "nbformat_minor": 2
}
